{
 "cells": [
  {
   "cell_type": "code",
   "execution_count": 3,
   "id": "920b5d4c-9ea2-4d4c-9abd-9cd720aaabe0",
   "metadata": {},
   "outputs": [
    {
     "name": "stdout",
     "output_type": "stream",
     "text": [
      "F-statistic: 1.3513513513513513\n",
      "P-value: 0.3887651233175855\n"
     ]
    }
   ],
   "source": [
    "import numpy as np\n",
    "from scipy import stats\n",
    "\n",
    "def variance_ratio_test(data1, data2):\n",
    "    # Calculate the variances of the two datasets\n",
    "    var1 = np.var(data1, ddof=1)  # ddof=1 for sample variance\n",
    "    var2 = np.var(data2, ddof=1)\n",
    "    \n",
    "    # Calculate the F-statistic\n",
    "    f_statistic = var1 / var2 if var1 >= var2 else var2 / var1\n",
    "    \n",
    "    # Calculate the degrees of freedom\n",
    "    df1 = len(data1) - 1\n",
    "    df2 = len(data2) - 1\n",
    "    \n",
    "    # Calculate the p-value using the F-distribution\n",
    "    p_value = 1 - stats.f.cdf(f_statistic, df1, df2)\n",
    "    \n",
    "    return f_statistic, p_value\n",
    "\n",
    "# Example usage:\n",
    "data1 = [12, 14, 15, 16, 18]\n",
    "data2 = [9, 10, 11, 12, 14]\n",
    "\n",
    "f_statistic, p_value = variance_ratio_test(data1, data2)\n",
    "print(\"F-statistic:\", f_statistic)\n",
    "print(\"P-value:\", p_value)\n"
   ]
  },
  {
   "cell_type": "code",
   "execution_count": 1,
   "id": "460471a1-d98b-4861-930f-f4a92978159f",
   "metadata": {},
   "outputs": [
    {
     "name": "stdout",
     "output_type": "stream",
     "text": [
      "Critical F-value (Left Tail): 0.07058467426541322\n",
      "Critical F-value (Right Tail): 3.8586986662732143\n"
     ]
    }
   ],
   "source": [
    "import scipy.stats as stats\n",
    "\n",
    "def get_critical_f_value(alpha, df1, df2):\n",
    "    \"\"\"\n",
    "    Calculate the critical F-value for a two-tailed test.\n",
    "\n",
    "    Parameters:\n",
    "    - alpha: Significance level (between 0 and 1).\n",
    "    - df1: Degrees of freedom for the numerator.\n",
    "    - df2: Degrees of freedom for the denominator.\n",
    "\n",
    "    Returns:\n",
    "    - Critical F-value for the given parameters.\n",
    "    \"\"\"\n",
    "    # Calculate the right-tailed F-value\n",
    "    right_critical_value = stats.f.ppf(1 - alpha / 2, df1, df2)\n",
    "\n",
    "    # Calculate the left-tailed F-value\n",
    "    left_critical_value = stats.f.ppf(alpha / 2, df1, df2)\n",
    "\n",
    "    # Return the critical F-values for the two tails\n",
    "    return left_critical_value, right_critical_value\n",
    "\n",
    "# Example usage:\n",
    "alpha = 0.05\n",
    "df1 = 3  # Degrees of freedom for the numerator\n",
    "df2 = 20  # Degrees of freedom for the denominator\n",
    "\n",
    "left_critical, right_critical = get_critical_f_value(alpha, df1, df2)\n",
    "print(f\"Critical F-value (Left Tail): {left_critical}\")\n",
    "print(f\"Critical F-value (Right Tail): {right_critical}\")\n"
   ]
  },
  {
   "cell_type": "code",
   "execution_count": null,
   "id": "70390746-86b1-4790-acee-aab21243b559",
   "metadata": {},
   "outputs": [],
   "source": [
    "import numpy as np\n",
    "from scipy import stats\n",
    "\n",
    "# Set the random seed for reproducibility\n",
    "np.random.seed(0)\n",
    "\n",
    "# Generate random samples from two normal distributions\n",
    "mean1 = 0\n",
    "variance1 = 1.5  # Known variance for distribution 1\n",
    "sample_size1 = 30\n",
    "sample1 = np.random.normal(mean1, np.sqrt(variance1), sample_size1)\n",
    "\n",
    "mean2 = 0\n",
    "variance2 = 2.0  # Known variance for distribution 2\n",
    "sample_size2 = 40\n",
    "sample2 = np.random.normal(mean2, np.sqrt(variance2), sample_size2)\n",
    "\n",
    "# Perform an F-test to compare the variances\n",
    "F_statistic = np.var(sample1, ddof=1) / np.var(sample2, ddof=1)\n",
    "df1 = sample_size1 - 1\n",
    "df2 = sample_size2 - 1\n",
    "p_value = 2 * min(stats.f.cdf(F_statistic, df1, df2), 1 - stats.f.cdf(F_statistic, df1, df2))\n",
    "\n",
    "# Output the results\n",
    "print(\"F-value:\", F_statistic)\n",
    "print(\"Degrees of Freedom (numerator, denominator):\", df1, df2)\n",
    "print(\"p-value:\", p_value)\n",
    "\n",
    "# Check if the variances are equal based on a significance level (e.g., 0.05)\n",
    "alpha = 0.05\n",
    "if p_value < alpha:\n",
    "    print(\"Reject the null hypothesis: Variances are not equal.\")\n",
    "else:\n",
    "    print(\"Fail to reject the null hypothesis: Variances are equal.\")\n"
   ]
  },
  {
   "cell_type": "code",
   "execution_count": null,
   "id": "cfb08d91-0f7e-4dd5-bd65-99876218805f",
   "metadata": {},
   "outputs": [],
   "source": [
    "import numpy as np\n",
    "from scipy import stats\n",
    "\n",
    "# Given data\n",
    "Var1 = 10\n",
    "Var2 = 15\n",
    "n1 = 12\n",
    "n2 = 12\n",
    "\n",
    "# Calculate the F-statistic\n",
    "F_statistic = Var1 / Var2\n",
    "\n",
    "# Degrees of freedom\n",
    "df1 = n1 - 1\n",
    "df2 = n2 - 1\n",
    "\n",
    "# Calculate the p-value\n",
    "p_value = 2 * min(stats.f.cdf(F_statistic, df1, df2), 1 - stats.f.cdf(F_statistic, df1, df2))\n",
    "\n",
    "# Set the significance level\n",
    "alpha = 0.05\n",
    "\n",
    "# Compare p-value to alpha\n",
    "if p_value < alpha:\n",
    "    print(\"Reject the null hypothesis: Variances are significantly different.\")\n",
    "else:\n",
    "    print(\"Fail to reject the null hypothesis: Variances are not significantly different.\")\n"
   ]
  },
  {
   "cell_type": "code",
   "execution_count": 2,
   "id": "8e23a12d-e628-4b44-8395-0d074704048b",
   "metadata": {},
   "outputs": [
    {
     "name": "stdout",
     "output_type": "stream",
     "text": [
      "Fail to reject the null hypothesis: The claim is justified.\n"
     ]
    }
   ],
   "source": [
    "import numpy as np\n",
    "from scipy import stats\n",
    "\n",
    "# Given data\n",
    "sigma_squared_claimed = 0.005\n",
    "sample_variance = 0.006\n",
    "sample_size = 25\n",
    "\n",
    "# Calculate the F-statistic\n",
    "F_statistic = sample_variance / sigma_squared_claimed\n",
    "\n",
    "# Degrees of freedom\n",
    "df1 = sample_size - 1\n",
    "df2 = df1\n",
    "\n",
    "# Calculate the p-value\n",
    "p_value = 2 * min(stats.f.cdf(F_statistic, df1, df2), 1 - stats.f.cdf(F_statistic, df1, df2))\n",
    "\n",
    "# Set the significance level\n",
    "alpha = 0.01\n",
    "\n",
    "# Compare p-value to alpha\n",
    "if p_value < alpha:\n",
    "    print(\"Reject the null hypothesis: The claim is not justified.\")\n",
    "else:\n",
    "    print(\"Fail to reject the null hypothesis: The claim is justified.\")\n"
   ]
  },
  {
   "cell_type": "code",
   "execution_count": 3,
   "id": "b32937cc-c6c9-4bb8-9f28-edaa0e4f897e",
   "metadata": {},
   "outputs": [
    {
     "name": "stdout",
     "output_type": "stream",
     "text": [
      "Mean: 1.25\n",
      "Variance: 1.3541666666666667\n"
     ]
    }
   ],
   "source": [
    "def calculate_f_distribution_mean_variance(df1, df2):\n",
    "    \"\"\"\n",
    "    Calculate the mean and variance of an F-distribution.\n",
    "\n",
    "    Args:\n",
    "    df1 (int): Degrees of freedom for the numerator.\n",
    "    df2 (int): Degrees of freedom for the denominator.\n",
    "\n",
    "    Returns:\n",
    "    tuple: A tuple containing the mean and variance of the F-distribution.\n",
    "    \"\"\"\n",
    "    # Ensure that degrees of freedom are positive\n",
    "    if df1 <= 0 or df2 <= 0:\n",
    "        raise ValueError(\"Degrees of freedom must be greater than zero.\")\n",
    "\n",
    "    # Mean of the F-distribution\n",
    "    if df2 > 2:\n",
    "        mean = df2 / (df2 - 2)\n",
    "    else:\n",
    "        mean = float('inf')  # Mean is undefined for df2 <= 2\n",
    "\n",
    "    # Variance of the F-distribution\n",
    "    if df2 > 4:\n",
    "        variance = (2 * (df2 ** 2) * (df1 + df2 - 2)) / (df1 * (df2 - 2) ** 2 * (df2 - 4))\n",
    "    else:\n",
    "        variance = float('inf')  # Variance is undefined for df2 <= 4\n",
    "\n",
    "    return mean, variance\n",
    "\n",
    "# Example usage:\n",
    "df1 = 5\n",
    "df2 = 10\n",
    "mean, variance = calculate_f_distribution_mean_variance(df1, df2)\n",
    "print(f\"Mean: {mean}\")\n",
    "print(f\"Variance: {variance}\")\n"
   ]
  },
  {
   "cell_type": "code",
   "execution_count": 4,
   "id": "54ebd8ec-2a2b-4446-b747-e63761ca20b6",
   "metadata": {},
   "outputs": [
    {
     "name": "stdout",
     "output_type": "stream",
     "text": [
      "Fail to reject the null hypothesis: Variances are not significantly different.\n"
     ]
    }
   ],
   "source": [
    "import numpy as np\n",
    "from scipy import stats\n",
    "\n",
    "# Given data\n",
    "s1_squared = 25\n",
    "n1 = 10\n",
    "s2_squared = 20\n",
    "n2 = 15\n",
    "\n",
    "# Calculate the F-statistic\n",
    "F_statistic = s1_squared / s2_squared\n",
    "\n",
    "# Degrees of freedom\n",
    "df1 = n1 - 1\n",
    "df2 = n2 - 1\n",
    "\n",
    "# Calculate the p-value\n",
    "p_value = 2 * min(stats.f.cdf(F_statistic, df1, df2), 1 - stats.f.cdf(F_statistic, df1, df2))\n",
    "\n",
    "# Set the significance level\n",
    "alpha = 0.10\n",
    "\n",
    "# Compare p-value to alpha\n",
    "if p_value < alpha:\n",
    "    print(\"Reject the null hypothesis: Variances are significantly different.\")\n",
    "else:\n",
    "    print(\"Fail to reject the null hypothesis: Variances are not significantly different.\")\n"
   ]
  },
  {
   "cell_type": "code",
   "execution_count": 5,
   "id": "01f75dda-b941-426d-bd9e-4d3092dca28d",
   "metadata": {},
   "outputs": [
    {
     "name": "stdout",
     "output_type": "stream",
     "text": [
      "Fail to reject the null hypothesis: Variances are not significantly different.\n"
     ]
    }
   ],
   "source": [
    "import numpy as np\n",
    "from scipy import stats\n",
    "\n",
    "# Given data\n",
    "restaurant_A_waiting_times = [24, 25, 28, 23, 22, 20, 27]\n",
    "restaurant_B_waiting_times = [31, 33, 35, 30, 32, 36]\n",
    "\n",
    "# Calculate the sample variances\n",
    "variance_A = np.var(restaurant_A_waiting_times, ddof=1)\n",
    "variance_B = np.var(restaurant_B_waiting_times, ddof=1)\n",
    "\n",
    "# Calculate the F-statistic\n",
    "F_statistic = variance_A / variance_B\n",
    "\n",
    "# Degrees of freedom\n",
    "df1 = len(restaurant_A_waiting_times) - 1\n",
    "df2 = len(restaurant_B_waiting_times) - 1\n",
    "\n",
    "# Calculate the p-value\n",
    "p_value = 2 * min(stats.f.cdf(F_statistic, df1, df2), 1 - stats.f.cdf(F_statistic, df1, df2))\n",
    "\n",
    "# Set the significance level\n",
    "alpha = 0.05\n",
    "\n",
    "# Compare p-value to alpha\n",
    "if p_value < alpha:\n",
    "    print(\"Reject the null hypothesis: Variances are significantly different.\")\n",
    "else:\n",
    "    print(\"Fail to reject the null hypothesis: Variances are not significantly different.\")\n"
   ]
  },
  {
   "cell_type": "code",
   "execution_count": 6,
   "id": "47faa046-25e1-4b45-a163-e40220032a90",
   "metadata": {},
   "outputs": [
    {
     "name": "stdout",
     "output_type": "stream",
     "text": [
      "Fail to reject the null hypothesis: Variances are not significantly different.\n"
     ]
    }
   ],
   "source": [
    "import numpy as np\n",
    "from scipy import stats\n",
    "\n",
    "# Given data\n",
    "group_A_test_scores = [80, 85, 90, 92, 87, 83]\n",
    "group_B_test_scores = [75, 78, 82, 79, 81, 84]\n",
    "\n",
    "# Calculate the sample variances\n",
    "variance_A = np.var(group_A_test_scores, ddof=1)\n",
    "variance_B = np.var(group_B_test_scores, ddof=1)\n",
    "\n",
    "# Calculate the F-statistic\n",
    "F_statistic = variance_A / variance_B\n",
    "\n",
    "# Degrees of freedom\n",
    "df1 = len(group_A_test_scores) - 1\n",
    "df2 = len(group_B_test_scores) - 1\n",
    "\n",
    "# Calculate the p-value\n",
    "p_value = 2 * min(stats.f.cdf(F_statistic, df1, df2), 1 - stats.f.cdf(F_statistic, df1, df2))\n",
    "\n",
    "# Set the significance level\n",
    "alpha = 0.01\n",
    "\n",
    "# Compare p-value to alpha\n",
    "if p_value < alpha:\n",
    "    print(\"Reject the null hypothesis: Variances are significantly different.\")\n",
    "else:\n",
    "    print(\"Fail to reject the null hypothesis: Variances are not significantly different.\")\n"
   ]
  },
  {
   "cell_type": "code",
   "execution_count": null,
   "id": "a39fd151-627a-4b1d-84ee-80f2eb736e33",
   "metadata": {},
   "outputs": [],
   "source": []
  }
 ],
 "metadata": {
  "kernelspec": {
   "display_name": "Python 3 (ipykernel)",
   "language": "python",
   "name": "python3"
  },
  "language_info": {
   "codemirror_mode": {
    "name": "ipython",
    "version": 3
   },
   "file_extension": ".py",
   "mimetype": "text/x-python",
   "name": "python",
   "nbconvert_exporter": "python",
   "pygments_lexer": "ipython3",
   "version": "3.10.8"
  }
 },
 "nbformat": 4,
 "nbformat_minor": 5
}
